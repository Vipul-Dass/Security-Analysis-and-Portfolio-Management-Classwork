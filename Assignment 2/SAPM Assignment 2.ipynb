{
 "cells": [
  {
   "cell_type": "markdown",
   "metadata": {},
   "source": [
    "# SAPM Assignment 2"
   ]
  },
  {
   "cell_type": "markdown",
   "metadata": {},
   "source": [
    "Calculate VaR for 1 day at 99% and 95% confidence level for the common stock of your assigned company (a) assuming normal distribution and (b) not assuming any distribution. "
   ]
  },
  {
   "cell_type": "code",
   "execution_count": 5,
   "metadata": {},
   "outputs": [],
   "source": [
    "import pandas as pd\n",
    "import numpy as np\n",
    "import seaborn as sns\n",
    "import matplotlib.pyplot as plt\n",
    "sns.set()\n",
    "\n",
    "\n",
    "#some extra\n",
    "\n",
    "from scipy.stats import norm\n",
    "import yfinance as yf\n"
   ]
  },
  {
   "cell_type": "code",
   "execution_count": 6,
   "metadata": {
    "scrolled": true
   },
   "outputs": [
    {
     "name": "stdout",
     "output_type": "stream",
     "text": [
      "[*********************100%***********************]  1 of 1 completed\n"
     ]
    },
    {
     "data": {
      "text/html": [
       "<div>\n",
       "<style scoped>\n",
       "    .dataframe tbody tr th:only-of-type {\n",
       "        vertical-align: middle;\n",
       "    }\n",
       "\n",
       "    .dataframe tbody tr th {\n",
       "        vertical-align: top;\n",
       "    }\n",
       "\n",
       "    .dataframe thead th {\n",
       "        text-align: right;\n",
       "    }\n",
       "</style>\n",
       "<table border=\"1\" class=\"dataframe\">\n",
       "  <thead>\n",
       "    <tr style=\"text-align: right;\">\n",
       "      <th></th>\n",
       "      <th>Open</th>\n",
       "      <th>High</th>\n",
       "      <th>Low</th>\n",
       "      <th>Close</th>\n",
       "      <th>Adj Close</th>\n",
       "      <th>Volume</th>\n",
       "    </tr>\n",
       "    <tr>\n",
       "      <th>Date</th>\n",
       "      <th></th>\n",
       "      <th></th>\n",
       "      <th></th>\n",
       "      <th></th>\n",
       "      <th></th>\n",
       "      <th></th>\n",
       "    </tr>\n",
       "  </thead>\n",
       "  <tbody>\n",
       "    <tr>\n",
       "      <th>2020-01-17</th>\n",
       "      <td>488.000000</td>\n",
       "      <td>491.950012</td>\n",
       "      <td>486.700012</td>\n",
       "      <td>489.649994</td>\n",
       "      <td>486.435760</td>\n",
       "      <td>1015739</td>\n",
       "    </tr>\n",
       "    <tr>\n",
       "      <th>2020-01-20</th>\n",
       "      <td>489.649994</td>\n",
       "      <td>492.700012</td>\n",
       "      <td>484.549988</td>\n",
       "      <td>486.049988</td>\n",
       "      <td>482.859375</td>\n",
       "      <td>1406615</td>\n",
       "    </tr>\n",
       "    <tr>\n",
       "      <th>2020-01-21</th>\n",
       "      <td>485.399994</td>\n",
       "      <td>488.350006</td>\n",
       "      <td>480.450012</td>\n",
       "      <td>487.000000</td>\n",
       "      <td>483.803162</td>\n",
       "      <td>788507</td>\n",
       "    </tr>\n",
       "    <tr>\n",
       "      <th>2020-01-22</th>\n",
       "      <td>489.200012</td>\n",
       "      <td>494.000000</td>\n",
       "      <td>486.250000</td>\n",
       "      <td>486.799988</td>\n",
       "      <td>483.604462</td>\n",
       "      <td>1140015</td>\n",
       "    </tr>\n",
       "    <tr>\n",
       "      <th>2020-01-23</th>\n",
       "      <td>486.700012</td>\n",
       "      <td>492.000000</td>\n",
       "      <td>482.750000</td>\n",
       "      <td>489.799988</td>\n",
       "      <td>486.584747</td>\n",
       "      <td>798731</td>\n",
       "    </tr>\n",
       "  </tbody>\n",
       "</table>\n",
       "</div>"
      ],
      "text/plain": [
       "                  Open        High         Low       Close   Adj Close  \\\n",
       "Date                                                                     \n",
       "2020-01-17  488.000000  491.950012  486.700012  489.649994  486.435760   \n",
       "2020-01-20  489.649994  492.700012  484.549988  486.049988  482.859375   \n",
       "2020-01-21  485.399994  488.350006  480.450012  487.000000  483.803162   \n",
       "2020-01-22  489.200012  494.000000  486.250000  486.799988  483.604462   \n",
       "2020-01-23  486.700012  492.000000  482.750000  489.799988  486.584747   \n",
       "\n",
       "             Volume  \n",
       "Date                 \n",
       "2020-01-17  1015739  \n",
       "2020-01-20  1406615  \n",
       "2020-01-21   788507  \n",
       "2020-01-22  1140015  \n",
       "2020-01-23   798731  "
      ]
     },
     "execution_count": 6,
     "metadata": {},
     "output_type": "execute_result"
    }
   ],
   "source": [
    "raw = yf.download('DABUR.NS',start='2020-01-17',end ='2020-07-07')\n",
    "\n",
    "raw.head()"
   ]
  },
  {
   "cell_type": "code",
   "execution_count": 14,
   "metadata": {},
   "outputs": [
    {
     "data": {
      "text/html": [
       "<div>\n",
       "<style scoped>\n",
       "    .dataframe tbody tr th:only-of-type {\n",
       "        vertical-align: middle;\n",
       "    }\n",
       "\n",
       "    .dataframe tbody tr th {\n",
       "        vertical-align: top;\n",
       "    }\n",
       "\n",
       "    .dataframe thead th {\n",
       "        text-align: right;\n",
       "    }\n",
       "</style>\n",
       "<table border=\"1\" class=\"dataframe\">\n",
       "  <thead>\n",
       "    <tr style=\"text-align: right;\">\n",
       "      <th></th>\n",
       "      <th>Open</th>\n",
       "      <th>High</th>\n",
       "      <th>Low</th>\n",
       "      <th>Close</th>\n",
       "      <th>Adj Close</th>\n",
       "      <th>Volume</th>\n",
       "    </tr>\n",
       "    <tr>\n",
       "      <th>Date</th>\n",
       "      <th></th>\n",
       "      <th></th>\n",
       "      <th></th>\n",
       "      <th></th>\n",
       "      <th></th>\n",
       "      <th></th>\n",
       "    </tr>\n",
       "  </thead>\n",
       "  <tbody>\n",
       "    <tr>\n",
       "      <th>2020-01-17</th>\n",
       "      <td>488.000000</td>\n",
       "      <td>491.950012</td>\n",
       "      <td>486.700012</td>\n",
       "      <td>489.649994</td>\n",
       "      <td>486.435760</td>\n",
       "      <td>1015739</td>\n",
       "    </tr>\n",
       "    <tr>\n",
       "      <th>2020-01-20</th>\n",
       "      <td>489.649994</td>\n",
       "      <td>492.700012</td>\n",
       "      <td>484.549988</td>\n",
       "      <td>486.049988</td>\n",
       "      <td>482.859375</td>\n",
       "      <td>1406615</td>\n",
       "    </tr>\n",
       "    <tr>\n",
       "      <th>2020-01-21</th>\n",
       "      <td>485.399994</td>\n",
       "      <td>488.350006</td>\n",
       "      <td>480.450012</td>\n",
       "      <td>487.000000</td>\n",
       "      <td>483.803162</td>\n",
       "      <td>788507</td>\n",
       "    </tr>\n",
       "    <tr>\n",
       "      <th>2020-01-22</th>\n",
       "      <td>489.200012</td>\n",
       "      <td>494.000000</td>\n",
       "      <td>486.250000</td>\n",
       "      <td>486.799988</td>\n",
       "      <td>483.604462</td>\n",
       "      <td>1140015</td>\n",
       "    </tr>\n",
       "    <tr>\n",
       "      <th>2020-01-23</th>\n",
       "      <td>486.700012</td>\n",
       "      <td>492.000000</td>\n",
       "      <td>482.750000</td>\n",
       "      <td>489.799988</td>\n",
       "      <td>486.584747</td>\n",
       "      <td>798731</td>\n",
       "    </tr>\n",
       "    <tr>\n",
       "      <th>...</th>\n",
       "      <td>...</td>\n",
       "      <td>...</td>\n",
       "      <td>...</td>\n",
       "      <td>...</td>\n",
       "      <td>...</td>\n",
       "      <td>...</td>\n",
       "    </tr>\n",
       "    <tr>\n",
       "      <th>2020-06-30</th>\n",
       "      <td>468.500000</td>\n",
       "      <td>472.700012</td>\n",
       "      <td>462.500000</td>\n",
       "      <td>465.950012</td>\n",
       "      <td>462.891327</td>\n",
       "      <td>4999118</td>\n",
       "    </tr>\n",
       "    <tr>\n",
       "      <th>2020-07-01</th>\n",
       "      <td>470.899994</td>\n",
       "      <td>471.000000</td>\n",
       "      <td>465.549988</td>\n",
       "      <td>466.600006</td>\n",
       "      <td>463.537048</td>\n",
       "      <td>2383843</td>\n",
       "    </tr>\n",
       "    <tr>\n",
       "      <th>2020-07-02</th>\n",
       "      <td>469.500000</td>\n",
       "      <td>471.500000</td>\n",
       "      <td>463.899994</td>\n",
       "      <td>465.049988</td>\n",
       "      <td>461.997223</td>\n",
       "      <td>2370799</td>\n",
       "    </tr>\n",
       "    <tr>\n",
       "      <th>2020-07-03</th>\n",
       "      <td>467.100006</td>\n",
       "      <td>470.750000</td>\n",
       "      <td>464.700012</td>\n",
       "      <td>467.049988</td>\n",
       "      <td>463.984100</td>\n",
       "      <td>2323284</td>\n",
       "    </tr>\n",
       "    <tr>\n",
       "      <th>2020-07-06</th>\n",
       "      <td>470.000000</td>\n",
       "      <td>470.100006</td>\n",
       "      <td>464.000000</td>\n",
       "      <td>465.950012</td>\n",
       "      <td>462.891327</td>\n",
       "      <td>1892579</td>\n",
       "    </tr>\n",
       "  </tbody>\n",
       "</table>\n",
       "<p>114 rows × 6 columns</p>\n",
       "</div>"
      ],
      "text/plain": [
       "                  Open        High         Low       Close   Adj Close  \\\n",
       "Date                                                                     \n",
       "2020-01-17  488.000000  491.950012  486.700012  489.649994  486.435760   \n",
       "2020-01-20  489.649994  492.700012  484.549988  486.049988  482.859375   \n",
       "2020-01-21  485.399994  488.350006  480.450012  487.000000  483.803162   \n",
       "2020-01-22  489.200012  494.000000  486.250000  486.799988  483.604462   \n",
       "2020-01-23  486.700012  492.000000  482.750000  489.799988  486.584747   \n",
       "...                ...         ...         ...         ...         ...   \n",
       "2020-06-30  468.500000  472.700012  462.500000  465.950012  462.891327   \n",
       "2020-07-01  470.899994  471.000000  465.549988  466.600006  463.537048   \n",
       "2020-07-02  469.500000  471.500000  463.899994  465.049988  461.997223   \n",
       "2020-07-03  467.100006  470.750000  464.700012  467.049988  463.984100   \n",
       "2020-07-06  470.000000  470.100006  464.000000  465.950012  462.891327   \n",
       "\n",
       "             Volume  \n",
       "Date                 \n",
       "2020-01-17  1015739  \n",
       "2020-01-20  1406615  \n",
       "2020-01-21   788507  \n",
       "2020-01-22  1140015  \n",
       "2020-01-23   798731  \n",
       "...             ...  \n",
       "2020-06-30  4999118  \n",
       "2020-07-01  2383843  \n",
       "2020-07-02  2370799  \n",
       "2020-07-03  2323284  \n",
       "2020-07-06  1892579  \n",
       "\n",
       "[114 rows x 6 columns]"
      ]
     },
     "execution_count": 14,
     "metadata": {},
     "output_type": "execute_result"
    }
   ],
   "source": [
    "data = raw.copy()\n",
    "data"
   ]
  },
  {
   "cell_type": "markdown",
   "metadata": {},
   "source": [
    "## Variance-Covariance Approach / Normal Curve Approach"
   ]
  },
  {
   "cell_type": "code",
   "execution_count": 15,
   "metadata": {
    "scrolled": true
   },
   "outputs": [
    {
     "data": {
      "text/html": [
       "<div>\n",
       "<style scoped>\n",
       "    .dataframe tbody tr th:only-of-type {\n",
       "        vertical-align: middle;\n",
       "    }\n",
       "\n",
       "    .dataframe tbody tr th {\n",
       "        vertical-align: top;\n",
       "    }\n",
       "\n",
       "    .dataframe thead th {\n",
       "        text-align: right;\n",
       "    }\n",
       "</style>\n",
       "<table border=\"1\" class=\"dataframe\">\n",
       "  <thead>\n",
       "    <tr style=\"text-align: right;\">\n",
       "      <th></th>\n",
       "      <th>Open</th>\n",
       "      <th>High</th>\n",
       "      <th>Low</th>\n",
       "      <th>Close</th>\n",
       "      <th>Adj Close</th>\n",
       "      <th>Volume</th>\n",
       "      <th>Return</th>\n",
       "    </tr>\n",
       "    <tr>\n",
       "      <th>Date</th>\n",
       "      <th></th>\n",
       "      <th></th>\n",
       "      <th></th>\n",
       "      <th></th>\n",
       "      <th></th>\n",
       "      <th></th>\n",
       "      <th></th>\n",
       "    </tr>\n",
       "  </thead>\n",
       "  <tbody>\n",
       "    <tr>\n",
       "      <th>2020-01-17</th>\n",
       "      <td>488.000000</td>\n",
       "      <td>491.950012</td>\n",
       "      <td>486.700012</td>\n",
       "      <td>489.649994</td>\n",
       "      <td>486.435760</td>\n",
       "      <td>1015739</td>\n",
       "      <td>0.003381</td>\n",
       "    </tr>\n",
       "    <tr>\n",
       "      <th>2020-01-20</th>\n",
       "      <td>489.649994</td>\n",
       "      <td>492.700012</td>\n",
       "      <td>484.549988</td>\n",
       "      <td>486.049988</td>\n",
       "      <td>482.859375</td>\n",
       "      <td>1406615</td>\n",
       "      <td>-0.007352</td>\n",
       "    </tr>\n",
       "    <tr>\n",
       "      <th>2020-01-21</th>\n",
       "      <td>485.399994</td>\n",
       "      <td>488.350006</td>\n",
       "      <td>480.450012</td>\n",
       "      <td>487.000000</td>\n",
       "      <td>483.803162</td>\n",
       "      <td>788507</td>\n",
       "      <td>0.003296</td>\n",
       "    </tr>\n",
       "    <tr>\n",
       "      <th>2020-01-22</th>\n",
       "      <td>489.200012</td>\n",
       "      <td>494.000000</td>\n",
       "      <td>486.250000</td>\n",
       "      <td>486.799988</td>\n",
       "      <td>483.604462</td>\n",
       "      <td>1140015</td>\n",
       "      <td>-0.004906</td>\n",
       "    </tr>\n",
       "    <tr>\n",
       "      <th>2020-01-23</th>\n",
       "      <td>486.700012</td>\n",
       "      <td>492.000000</td>\n",
       "      <td>482.750000</td>\n",
       "      <td>489.799988</td>\n",
       "      <td>486.584747</td>\n",
       "      <td>798731</td>\n",
       "      <td>0.006369</td>\n",
       "    </tr>\n",
       "  </tbody>\n",
       "</table>\n",
       "</div>"
      ],
      "text/plain": [
       "                  Open        High         Low       Close   Adj Close  \\\n",
       "Date                                                                     \n",
       "2020-01-17  488.000000  491.950012  486.700012  489.649994  486.435760   \n",
       "2020-01-20  489.649994  492.700012  484.549988  486.049988  482.859375   \n",
       "2020-01-21  485.399994  488.350006  480.450012  487.000000  483.803162   \n",
       "2020-01-22  489.200012  494.000000  486.250000  486.799988  483.604462   \n",
       "2020-01-23  486.700012  492.000000  482.750000  489.799988  486.584747   \n",
       "\n",
       "             Volume    Return  \n",
       "Date                           \n",
       "2020-01-17  1015739  0.003381  \n",
       "2020-01-20  1406615 -0.007352  \n",
       "2020-01-21   788507  0.003296  \n",
       "2020-01-22  1140015 -0.004906  \n",
       "2020-01-23   798731  0.006369  "
      ]
     },
     "execution_count": 15,
     "metadata": {},
     "output_type": "execute_result"
    }
   ],
   "source": [
    "#Calculate Returns\n",
    "#Ensure normal distribution of data\n",
    "#norm.ppf for calculating the loss percent at corresponding confidence interval\n",
    "#mean and standard deviation required for this\n",
    "\n",
    "data['Return'] = (data['Close'] - data['Open'])/data['Open']\n",
    "\n",
    "data.head()"
   ]
  },
  {
   "cell_type": "code",
   "execution_count": 16,
   "metadata": {},
   "outputs": [],
   "source": [
    "mean = data['Return'].mean()\n",
    "sdev = data['Return'].std()"
   ]
  },
  {
   "cell_type": "code",
   "execution_count": 17,
   "metadata": {},
   "outputs": [
    {
     "data": {
      "text/plain": [
       "<matplotlib.axes._subplots.AxesSubplot at 0x1572da640c8>"
      ]
     },
     "execution_count": 17,
     "metadata": {},
     "output_type": "execute_result"
    },
    {
     "data": {
      "image/png": "[encoded data removed]",
      "text/plain": [
       "<Figure size 432x288 with 1 Axes>"
      ]
     },
     "metadata": {},
     "output_type": "display_data"
    }
   ],
   "source": [
    "sns.distplot(data['Return'])\n",
    "\n",
    "#approximately normally distributed"
   ]
  },
  {
   "cell_type": "markdown",
   "metadata": {},
   "source": [
    "The method norm.ppf() takes a percentage and returns a standard deviation multiplier for what value that percentage occurs at.\n",
    "\n",
    "It is equivalent to a, 'One-tail test' on the density plot"
   ]
  },
  {
   "cell_type": "code",
   "execution_count": 19,
   "metadata": {},
   "outputs": [
    {
     "name": "stdout",
     "output_type": "stream",
     "text": [
      "90% VaR: -0.030944409824880493 \n",
      "\n",
      " 95% VaR -0.03945598084616561 \n",
      "\n",
      " 99% VaR: -0.055422272538086834\n"
     ]
    }
   ],
   "source": [
    "\n",
    "var90 = norm.ppf(1-0.9,mean,sdev)\n",
    "var95 = norm.ppf(1-0.95,mean,sdev)\n",
    "var99 = norm.ppf(1-0.99,mean,sdev)\n",
    "\n",
    "print('90% VaR:',var90,\"\\n\\n\",'95% VaR',var95,'\\n\\n','99% VaR:',var99)"
   ]
  },
  {
   "cell_type": "code",
   "execution_count": 20,
   "metadata": {},
   "outputs": [
    {
     "data": {
      "text/html": [
       "<div>\n",
       "<style scoped>\n",
       "    .dataframe tbody tr th:only-of-type {\n",
       "        vertical-align: middle;\n",
       "    }\n",
       "\n",
       "    .dataframe tbody tr th {\n",
       "        vertical-align: top;\n",
       "    }\n",
       "\n",
       "    .dataframe thead th {\n",
       "        text-align: right;\n",
       "    }\n",
       "</style>\n",
       "<table border=\"1\" class=\"dataframe\">\n",
       "  <thead>\n",
       "    <tr style=\"text-align: right;\">\n",
       "      <th></th>\n",
       "      <th>Open</th>\n",
       "      <th>High</th>\n",
       "      <th>Low</th>\n",
       "      <th>Close</th>\n",
       "      <th>Adj Close</th>\n",
       "      <th>Volume</th>\n",
       "      <th>Return</th>\n",
       "    </tr>\n",
       "    <tr>\n",
       "      <th>Date</th>\n",
       "      <th></th>\n",
       "      <th></th>\n",
       "      <th></th>\n",
       "      <th></th>\n",
       "      <th></th>\n",
       "      <th></th>\n",
       "      <th></th>\n",
       "    </tr>\n",
       "  </thead>\n",
       "  <tbody>\n",
       "    <tr>\n",
       "      <th>2020-06-30</th>\n",
       "      <td>468.500000</td>\n",
       "      <td>472.700012</td>\n",
       "      <td>462.500000</td>\n",
       "      <td>465.950012</td>\n",
       "      <td>462.891327</td>\n",
       "      <td>4999118</td>\n",
       "      <td>-0.005443</td>\n",
       "    </tr>\n",
       "    <tr>\n",
       "      <th>2020-07-01</th>\n",
       "      <td>470.899994</td>\n",
       "      <td>471.000000</td>\n",
       "      <td>465.549988</td>\n",
       "      <td>466.600006</td>\n",
       "      <td>463.537048</td>\n",
       "      <td>2383843</td>\n",
       "      <td>-0.009131</td>\n",
       "    </tr>\n",
       "    <tr>\n",
       "      <th>2020-07-02</th>\n",
       "      <td>469.500000</td>\n",
       "      <td>471.500000</td>\n",
       "      <td>463.899994</td>\n",
       "      <td>465.049988</td>\n",
       "      <td>461.997223</td>\n",
       "      <td>2370799</td>\n",
       "      <td>-0.009478</td>\n",
       "    </tr>\n",
       "    <tr>\n",
       "      <th>2020-07-03</th>\n",
       "      <td>467.100006</td>\n",
       "      <td>470.750000</td>\n",
       "      <td>464.700012</td>\n",
       "      <td>467.049988</td>\n",
       "      <td>463.984100</td>\n",
       "      <td>2323284</td>\n",
       "      <td>-0.000107</td>\n",
       "    </tr>\n",
       "    <tr>\n",
       "      <th>2020-07-06</th>\n",
       "      <td>470.000000</td>\n",
       "      <td>470.100006</td>\n",
       "      <td>464.000000</td>\n",
       "      <td>465.950012</td>\n",
       "      <td>462.891327</td>\n",
       "      <td>1892579</td>\n",
       "      <td>-0.008617</td>\n",
       "    </tr>\n",
       "  </tbody>\n",
       "</table>\n",
       "</div>"
      ],
      "text/plain": [
       "                  Open        High         Low       Close   Adj Close  \\\n",
       "Date                                                                     \n",
       "2020-06-30  468.500000  472.700012  462.500000  465.950012  462.891327   \n",
       "2020-07-01  470.899994  471.000000  465.549988  466.600006  463.537048   \n",
       "2020-07-02  469.500000  471.500000  463.899994  465.049988  461.997223   \n",
       "2020-07-03  467.100006  470.750000  464.700012  467.049988  463.984100   \n",
       "2020-07-06  470.000000  470.100006  464.000000  465.950012  462.891327   \n",
       "\n",
       "             Volume    Return  \n",
       "Date                           \n",
       "2020-06-30  4999118 -0.005443  \n",
       "2020-07-01  2383843 -0.009131  \n",
       "2020-07-02  2370799 -0.009478  \n",
       "2020-07-03  2323284 -0.000107  \n",
       "2020-07-06  1892579 -0.008617  "
      ]
     },
     "execution_count": 20,
     "metadata": {},
     "output_type": "execute_result"
    }
   ],
   "source": [
    "data.tail()"
   ]
  },
  {
   "cell_type": "code",
   "execution_count": 35,
   "metadata": {},
   "outputs": [
    {
     "name": "stdout",
     "output_type": "stream",
     "text": [
      "On 7th July 2020, 90 percent chance max loss will be:  -14.418548135642443\n",
      "On 7th July 2020, 95 percent chance max loss will be:  -18.38451475691126\n",
      "On 7th July 2020, 99 percent chance max loss will be:  -25.82400856566297\n"
     ]
    }
   ],
   "source": [
    "print('On 7th July 2020, 90 percent chance max loss will be: ',var90*data.loc['2020-07-06','Close'])\n",
    "print('On 7th July 2020, 95 percent chance max loss will be: ',var95*data.loc['2020-07-06','Close'])\n",
    "print('On 7th July 2020, 99 percent chance max loss will be: ',var99*data.loc['2020-07-06','Close'])"
   ]
  },
  {
   "cell_type": "code",
   "execution_count": 28,
   "metadata": {},
   "outputs": [
    {
     "data": {
      "text/plain": [
       "465.95001220703125"
      ]
     },
     "execution_count": 28,
     "metadata": {},
     "output_type": "execute_result"
    }
   ],
   "source": [
    "data.loc['2020-07-06','Close']"
   ]
  },
  {
   "cell_type": "markdown",
   "metadata": {},
   "source": [
    "## Historical Simulation"
   ]
  },
  {
   "cell_type": "code",
   "execution_count": 37,
   "metadata": {},
   "outputs": [
    {
     "data": {
      "text/html": [
       "<div>\n",
       "<style scoped>\n",
       "    .dataframe tbody tr th:only-of-type {\n",
       "        vertical-align: middle;\n",
       "    }\n",
       "\n",
       "    .dataframe tbody tr th {\n",
       "        vertical-align: top;\n",
       "    }\n",
       "\n",
       "    .dataframe thead th {\n",
       "        text-align: right;\n",
       "    }\n",
       "</style>\n",
       "<table border=\"1\" class=\"dataframe\">\n",
       "  <thead>\n",
       "    <tr style=\"text-align: right;\">\n",
       "      <th></th>\n",
       "      <th>Open</th>\n",
       "      <th>High</th>\n",
       "      <th>Low</th>\n",
       "      <th>Close</th>\n",
       "      <th>Adj Close</th>\n",
       "      <th>Volume</th>\n",
       "      <th>Return</th>\n",
       "    </tr>\n",
       "    <tr>\n",
       "      <th>Date</th>\n",
       "      <th></th>\n",
       "      <th></th>\n",
       "      <th></th>\n",
       "      <th></th>\n",
       "      <th></th>\n",
       "      <th></th>\n",
       "      <th></th>\n",
       "    </tr>\n",
       "  </thead>\n",
       "  <tbody>\n",
       "    <tr>\n",
       "      <th>2020-04-17</th>\n",
       "      <td>515.0</td>\n",
       "      <td>515.000000</td>\n",
       "      <td>487.200012</td>\n",
       "      <td>490.100006</td>\n",
       "      <td>486.882812</td>\n",
       "      <td>3429703</td>\n",
       "      <td>-0.048350</td>\n",
       "    </tr>\n",
       "    <tr>\n",
       "      <th>2020-03-18</th>\n",
       "      <td>435.0</td>\n",
       "      <td>437.250000</td>\n",
       "      <td>412.100006</td>\n",
       "      <td>414.549988</td>\n",
       "      <td>411.828705</td>\n",
       "      <td>2896377</td>\n",
       "      <td>-0.047012</td>\n",
       "    </tr>\n",
       "    <tr>\n",
       "      <th>2020-03-12</th>\n",
       "      <td>477.5</td>\n",
       "      <td>478.000000</td>\n",
       "      <td>451.700012</td>\n",
       "      <td>455.250000</td>\n",
       "      <td>452.261566</td>\n",
       "      <td>2856276</td>\n",
       "      <td>-0.046597</td>\n",
       "    </tr>\n",
       "    <tr>\n",
       "      <th>2020-03-27</th>\n",
       "      <td>441.5</td>\n",
       "      <td>445.600006</td>\n",
       "      <td>418.000000</td>\n",
       "      <td>423.000000</td>\n",
       "      <td>420.223297</td>\n",
       "      <td>3674758</td>\n",
       "      <td>-0.041903</td>\n",
       "    </tr>\n",
       "    <tr>\n",
       "      <th>2020-05-15</th>\n",
       "      <td>463.0</td>\n",
       "      <td>463.649994</td>\n",
       "      <td>441.350006</td>\n",
       "      <td>443.899994</td>\n",
       "      <td>440.986084</td>\n",
       "      <td>4049485</td>\n",
       "      <td>-0.041253</td>\n",
       "    </tr>\n",
       "  </tbody>\n",
       "</table>\n",
       "</div>"
      ],
      "text/plain": [
       "             Open        High         Low       Close   Adj Close   Volume  \\\n",
       "Date                                                                         \n",
       "2020-04-17  515.0  515.000000  487.200012  490.100006  486.882812  3429703   \n",
       "2020-03-18  435.0  437.250000  412.100006  414.549988  411.828705  2896377   \n",
       "2020-03-12  477.5  478.000000  451.700012  455.250000  452.261566  2856276   \n",
       "2020-03-27  441.5  445.600006  418.000000  423.000000  420.223297  3674758   \n",
       "2020-05-15  463.0  463.649994  441.350006  443.899994  440.986084  4049485   \n",
       "\n",
       "              Return  \n",
       "Date                  \n",
       "2020-04-17 -0.048350  \n",
       "2020-03-18 -0.047012  \n",
       "2020-03-12 -0.046597  \n",
       "2020-03-27 -0.041903  \n",
       "2020-05-15 -0.041253  "
      ]
     },
     "execution_count": 37,
     "metadata": {},
     "output_type": "execute_result"
    }
   ],
   "source": [
    "#sort returns by ascending order\n",
    "#choose the 10%,5% and 1% return positions.\n",
    "#multiply the return value by the latest stock price for corresponding loss\n",
    "\n",
    "data1 = data.copy()\n",
    "data1.sort_values('Return',inplace = True,ascending = True)\n",
    "data1.head()"
   ]
  },
  {
   "cell_type": "code",
   "execution_count": 40,
   "metadata": {},
   "outputs": [],
   "source": [
    "vari90 = data1['Return'].quantile(0.1)\n",
    "vari95 = data1['Return'].quantile(0.05)\n",
    "vari99 = data1['Return'].quantile(0.01)"
   ]
  },
  {
   "cell_type": "code",
   "execution_count": 41,
   "metadata": {},
   "outputs": [
    {
     "data": {
      "text/plain": [
       "-0.028581740216511053"
      ]
     },
     "execution_count": 41,
     "metadata": {},
     "output_type": "execute_result"
    }
   ],
   "source": [
    "vari90"
   ]
  },
  {
   "cell_type": "code",
   "execution_count": 42,
   "metadata": {
    "scrolled": true
   },
   "outputs": [
    {
     "name": "stdout",
     "output_type": "stream",
     "text": [
      "On 7th July 2020, 90 percent chance max loss will be:  -13.317662202781522\n",
      "On 7th July 2020, 95 percent chance max loss will be:  -17.784408645223884\n",
      "On 7th July 2020, 99 percent chance max loss will be:  -21.879901765699437\n"
     ]
    }
   ],
   "source": [
    "print('On 7th July 2020, 90 percent chance max loss will be: ',vari90*data.loc['2020-07-06','Close'])\n",
    "print('On 7th July 2020, 95 percent chance max loss will be: ',vari95*data.loc['2020-07-06','Close'])\n",
    "print('On 7th July 2020, 99 percent chance max loss will be: ',vari99*data.loc['2020-07-06','Close'])"
   ]
  },
  {
   "cell_type": "code",
   "execution_count": null,
   "metadata": {},
   "outputs": [],
   "source": []
  }
 ],
 "metadata": {
  "kernelspec": {
   "display_name": "Python 3",
   "language": "python",
   "name": "python3"
  },
  "language_info": {
   "codemirror_mode": {
    "name": "ipython",
    "version": 3
   },
   "file_extension": ".py",
   "mimetype": "text/x-python",
   "name": "python",
   "nbconvert_exporter": "python",
   "pygments_lexer": "ipython3",
   "version": "3.7.6"
  }
 },
 "nbformat": 4,
 "nbformat_minor": 4
}
